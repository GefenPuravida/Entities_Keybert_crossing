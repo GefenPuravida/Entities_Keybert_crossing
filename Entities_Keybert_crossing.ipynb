{
 "cells": [
  {
   "cell_type": "code",
   "execution_count": null,
   "metadata": {},
   "outputs": [],
   "source": [
    "from IPython.display import display_html\n",
    "from itertools import chain,cycle\n",
    "import pandas as pd\n",
    "from keybert import KeyBERT\n",
    "def display_side_by_side(*args,titles=cycle([''])):\n",
    "    html_str=''\n",
    "    for df,title in zip(args, chain(titles,cycle(['</br>'])) ):\n",
    "        html_str+='<th style=\"text-align:center\"><td style=\"vertical-align:top\">'\n",
    "        html_str+=f'<h2>{title}</h2>'\n",
    "        html_str+=df.to_html().replace('table','table style=\"display:inline\"')\n",
    "        html_str+='</td></th>'\n",
    "    display_html(html_str,raw=True)"
   ]
  },
  {
   "cell_type": "code",
   "execution_count": null,
   "metadata": {},
   "outputs": [],
   "source": [
    "doc_other = \"\"\"\n",
    "competitor text here\n",
    "\"\"\"\n",
    "doc_mysite = \"\"\"\n",
    "my site text here\n",
    "\"\"\""
   ]
  },
  {
   "cell_type": "code",
   "execution_count": null,
   "metadata": {},
   "outputs": [],
   "source": [
    "\n",
    "#diversity parameters#\n",
    "diversity=0.2\n",
    "use_mmr=True\n",
    "ngram_range=(4,4)\n",
    "\n",
    "#for diversity#\n",
    "#keywords_other = kw_model.extract_keywords(doc_other,keyphrase_ngram_range=ngram_range,use_mmr=use_mmr, diversity=diversity, stop_words=None,top_n = 50)\n",
    "#df_other = pd.DataFrame(keywords_other, columns=['keyword', 'value_other'])\n",
    "#keywords_mysite = kw_model.extract_keywords(doc_mysite,keyphrase_ngram_range=ngram_range,use_mmr=use_mmr, diversity=diversity, stop_words=None,top_n = 50)\n",
    "#df_mysite = pd.DataFrame(keywords_mysite, columns=['keyword', 'value_mysite'])\n",
    "\n",
    "#plain#\n",
    "keywords_other = kw_model.extract_keywords(doc_other,keyphrase_ngram_range=ngram_range,stop_words=None,top_n = 50)\n",
    "df_other = pd.DataFrame(keywords_other, columns=['keyword', 'value_other'])\n",
    "\n",
    "keywords_mysite = kw_model.extract_keywords(doc_mysite,keyphrase_ngram_range=ngram_range,stop_words=None,top_n = 50)\n",
    "df_mysite = pd.DataFrame(keywords_mysite, columns=['keyword', 'value_mysite'])\n",
    "\n",
    "#mysite win#\n",
    "df_merged= df_other.merge(df_mysite,on='keyword',how='outer').fillna(0)\n",
    "df_merged['delta']= df_merged['value_other'] - df_merged['value_mysite']\n",
    "\n",
    "#other win#\n",
    "df_merged_other_win = df_mysite.merge(df_other,on='keyword',how='outer').fillna(0)\n",
    "df_merged_other_win['delta']= df_merged_other_win['value_mysite'] - df_merged_other_win['value_other']\n",
    "\n",
    "pd.set_option('display.max_rows', None)\n",
    "df_merged.sort_values(by='delta',inplace = True)\n",
    "df_merged_other_win.sort_values(by='delta',inplace = True)\n",
    "\n",
    "df_merged=df_merged[df_merged['delta']<0]\n",
    "df_merged_other_win=df_merged_other_win[df_merged_other_win['delta']<0]\n",
    "display_side_by_side(df_merged,df_merged_other_win, titles=['mysite win','other win'])"
   ]
  },
  {
   "cell_type": "code",
   "execution_count": null,
   "metadata": {},
   "outputs": [],
   "source": [
    "#paul shapiro's entities#\n",
    "\n",
    "text_other=entity_create_list(doc_other.lower())\n",
    "entity_other = pd.DataFrame.from_dict(text_other).sort_values(by='salience',ascending=False)\n",
    "entity_other = entity_other.groupby([\"name\"], as_index=False)[\"salience\"].agg({\"standev_salience\": \"std\", \"sum_salience\": \"sum\", \"median_salience\": \"median\", \"avg_salience\": \"mean\", \"count\": \"count\"}).sort_values(by=\"count\", ascending=False).reset_index()\n",
    "entity_other['score'] = entity_other.apply(lambda row: create_score(row['avg_salience'], row['count']), axis=1)\n",
    "entity_other.sort_values(by=\"score\", ascending=False).head()\n",
    "#entity_other.to_csv('other_entities.csv')\n",
    "print('other len:')\n",
    "print(str(len(entity_other)))\n",
    "\n",
    "text_mysite=entity_create_list(doc_mysite.lower())\n",
    "entity_mysite = pd.DataFrame.from_dict(text_mysite).sort_values(by='salience',ascending=False)\n",
    "entity_mysite = entity_mysite.groupby([\"name\",], as_index=False)[\"salience\"].agg({\"standev_salience\": \"std\", \"sum_salience\": \"sum\", \"median_salience\": \"median\", \"avg_salience\": \"mean\", \"count\": \"count\"}).sort_values(by=\"count\", ascending=False).reset_index()\n",
    "entity_mysite['score'] = entity_mysite.apply(lambda row: create_score(row['avg_salience'], row['count']), axis=1)\n",
    "entity_mysite.sort_values(by=\"score\", ascending=False).head()\n",
    "#entity_mysite.to_csv('mysite_entities.csv')\n",
    "print('mysite len:')\n",
    "print(str(len(entity_mysite)))\n",
    "\n",
    "####comparison####\n",
    "entity_mysite=entity_mysite[['name','sum_salience']].rename(columns={'sum_salience': 'sum_salience_mysite'})\n",
    "entity_other=entity_other[['name','sum_salience']].rename(columns={'sum_salience': 'sum_salience_other'})\n",
    "\n",
    "#merge\n",
    "df_merged_other_win = entity_other.merge(entity_mysite,on='name',how='outer').fillna(0)\n",
    "df_merged_other_win['delta']= df_merged_other_win['sum_salience_mysite'] - df_merged_other_win['sum_salience_other']\n",
    "df_merged_T_win = entity_mysite.merge(entity_other,on='name',how='outer').fillna(0)\n",
    "df_merged_T_win['delta']= df_merged_T_win['sum_salience_other'] - df_merged_T_win['sum_salience_mysite']\n",
    "df_merged_other_win.sort_values(by='delta',inplace = True)\n",
    "df_merged_T_win.sort_values(by='delta',inplace = True)\n",
    "df_merged_T_win=df_merged_T_win[df_merged_T_win['delta']<0]\n",
    "df_merged_other_win=df_merged_other_win[df_merged_other_win['delta']<0]\n",
    "\n",
    "display_side_by_side(df_merged_T_win,df_merged_other_win, titles=['mysite win','other win'])"
   ]
  }
 ],
 "metadata": {
  "kernelspec": {
   "display_name": "Python 3",
   "language": "python",
   "name": "python3"
  },
  "language_info": {
   "codemirror_mode": {
    "name": "ipython",
    "version": 3
   },
   "file_extension": ".py",
   "mimetype": "text/x-python",
   "name": "python",
   "nbconvert_exporter": "python",
   "pygments_lexer": "ipython3",
   "version": "3.7.3"
  },
  "toc": {
   "base_numbering": 1,
   "nav_menu": {},
   "number_sections": true,
   "sideBar": true,
   "skip_h1_title": false,
   "title_cell": "Table of Contents",
   "title_sidebar": "Contents",
   "toc_cell": false,
   "toc_position": {},
   "toc_section_display": true,
   "toc_window_display": false
  },
  "varInspector": {
   "cols": {
    "lenName": 16,
    "lenType": 16,
    "lenVar": 40
   },
   "kernels_config": {
    "python": {
     "delete_cmd_postfix": "",
     "delete_cmd_prefix": "del ",
     "library": "var_list.py",
     "varRefreshCmd": "print(var_dic_list())"
    },
    "r": {
     "delete_cmd_postfix": ") ",
     "delete_cmd_prefix": "rm(",
     "library": "var_list.r",
     "varRefreshCmd": "cat(var_dic_list()) "
    }
   },
   "types_to_exclude": [
    "module",
    "function",
    "builtin_function_or_method",
    "instance",
    "_Feature"
   ],
   "window_display": false
  }
 },
 "nbformat": 4,
 "nbformat_minor": 2
}

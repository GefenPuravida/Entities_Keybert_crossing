{
 "cells": [
  {
   "cell_type": "code",
   "execution_count": null,
   "metadata": {},
   "outputs": [],
   "source": [
    "from google.cloud import language\n",
    "from google.oauth2 import service_account\n",
    "from google.cloud.language import enums\n",
    "from google.cloud.language import types\n",
    "from google.cloud import language\n",
    "import os\n",
    "from goose3 import Goose\n",
    "import pandas as pd\n",
    "import argparse\n",
    "\n",
    "\n",
    "os.environ['GOOGLE_APPLICATION_CREDENTIALS'] =  'services.json'\n",
    "credentials = service_account.Credentials.from_service_account_file(\n",
    "    'services.json')\n",
    "\n",
    "client = language.LanguageServiceClient(credentials=credentials)\n",
    "\n",
    "client = language.LanguageServiceClient()\n",
    "g = Goose({'browser_user_agent': 'Mozilla'})\n",
    "\n",
    "def clean_text(url):\n",
    "    try:\n",
    "        article = g.extract(url=url)\n",
    "        return article.title + \" \" + article.cleaned_text\n",
    "    except:\n",
    "        print(\"Error on \" + url)\n",
    "        return \" \"\n",
    "    \n",
    "def analyze_entities(text, encoding='UTF32'):\n",
    "    document = language.types.Document(content=text, language='en',type='PLAIN_TEXT')\n",
    "    response = client.analyze_entities(document=document,encoding_type='UTF32')\n",
    "    return response\n",
    "\n",
    "def entity_create_list(text):\n",
    "    entity_list = []\n",
    "    entities = analyze_entities(text)\n",
    "    for x in entities.entities:\n",
    "        entity_list.append({ \"name\": x.name, \"salience\": x.salience, \"entity_type\": str(enums.Entity.Type(x.type)).strip('Type.')})\n",
    "    return entity_list\n",
    "\n",
    "\n",
    "def create_score(x, y):\n",
    "    return x * y"
   ]
  },
  {
   "cell_type": "code",
   "execution_count": null,
   "metadata": {},
   "outputs": [],
   "source": [
    "kw_model = KeyBERT()"
   ]
  }
 ],
 "metadata": {
  "kernelspec": {
   "display_name": "Python 3",
   "language": "python",
   "name": "python3"
  },
  "language_info": {
   "codemirror_mode": {
    "name": "ipython",
    "version": 3
   },
   "file_extension": ".py",
   "mimetype": "text/x-python",
   "name": "python",
   "nbconvert_exporter": "python",
   "pygments_lexer": "ipython3",
   "version": "3.7.3"
  },
  "toc": {
   "base_numbering": 1,
   "nav_menu": {},
   "number_sections": true,
   "sideBar": true,
   "skip_h1_title": false,
   "title_cell": "Table of Contents",
   "title_sidebar": "Contents",
   "toc_cell": false,
   "toc_position": {},
   "toc_section_display": true,
   "toc_window_display": false
  },
  "varInspector": {
   "cols": {
    "lenName": 16,
    "lenType": 16,
    "lenVar": 40
   },
   "kernels_config": {
    "python": {
     "delete_cmd_postfix": "",
     "delete_cmd_prefix": "del ",
     "library": "var_list.py",
     "varRefreshCmd": "print(var_dic_list())"
    },
    "r": {
     "delete_cmd_postfix": ") ",
     "delete_cmd_prefix": "rm(",
     "library": "var_list.r",
     "varRefreshCmd": "cat(var_dic_list()) "
    }
   },
   "types_to_exclude": [
    "module",
    "function",
    "builtin_function_or_method",
    "instance",
    "_Feature"
   ],
   "window_display": false
  }
 },
 "nbformat": 4,
 "nbformat_minor": 2
}
